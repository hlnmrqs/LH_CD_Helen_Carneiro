{
 "cells": [
  {
   "cell_type": "markdown",
   "metadata": {},
   "source": [
    "## 0. Importação das bibliotecas"
   ]
  },
  {
   "cell_type": "code",
   "execution_count": 47,
   "metadata": {},
   "outputs": [],
   "source": [
    "import pandas as pd\n",
    "import os \n",
    "import numpy as np\n",
    "import seaborn as sns\n",
    "import matplotlib.pyplot as plt"
   ]
  },
  {
   "cell_type": "markdown",
   "metadata": {},
   "source": [
    "## 1. Carregando os dados"
   ]
  },
  {
   "cell_type": "code",
   "execution_count": 23,
   "metadata": {},
   "outputs": [
    {
     "data": {
      "text/html": [
       "<div>\n",
       "<style scoped>\n",
       "    .dataframe tbody tr th:only-of-type {\n",
       "        vertical-align: middle;\n",
       "    }\n",
       "\n",
       "    .dataframe tbody tr th {\n",
       "        vertical-align: top;\n",
       "    }\n",
       "\n",
       "    .dataframe thead th {\n",
       "        text-align: right;\n",
       "    }\n",
       "</style>\n",
       "<table border=\"1\" class=\"dataframe\">\n",
       "  <thead>\n",
       "    <tr style=\"text-align: right;\">\n",
       "      <th></th>\n",
       "      <th>id</th>\n",
       "      <th>nome</th>\n",
       "      <th>host_id</th>\n",
       "      <th>host_name</th>\n",
       "      <th>bairro_group</th>\n",
       "      <th>bairro</th>\n",
       "      <th>latitude</th>\n",
       "      <th>longitude</th>\n",
       "      <th>room_type</th>\n",
       "      <th>price</th>\n",
       "      <th>minimo_noites</th>\n",
       "      <th>numero_de_reviews</th>\n",
       "      <th>ultima_review</th>\n",
       "      <th>reviews_por_mes</th>\n",
       "      <th>calculado_host_listings_count</th>\n",
       "      <th>disponibilidade_365</th>\n",
       "    </tr>\n",
       "  </thead>\n",
       "  <tbody>\n",
       "    <tr>\n",
       "      <th>0</th>\n",
       "      <td>2595</td>\n",
       "      <td>Skylit Midtown Castle</td>\n",
       "      <td>2845</td>\n",
       "      <td>Jennifer</td>\n",
       "      <td>Manhattan</td>\n",
       "      <td>Midtown</td>\n",
       "      <td>40.75362</td>\n",
       "      <td>-73.98377</td>\n",
       "      <td>Entire home/apt</td>\n",
       "      <td>225</td>\n",
       "      <td>1</td>\n",
       "      <td>45</td>\n",
       "      <td>2019-05-21</td>\n",
       "      <td>0.38</td>\n",
       "      <td>2</td>\n",
       "      <td>355</td>\n",
       "    </tr>\n",
       "    <tr>\n",
       "      <th>1</th>\n",
       "      <td>3647</td>\n",
       "      <td>THE VILLAGE OF HARLEM....NEW YORK !</td>\n",
       "      <td>4632</td>\n",
       "      <td>Elisabeth</td>\n",
       "      <td>Manhattan</td>\n",
       "      <td>Harlem</td>\n",
       "      <td>40.80902</td>\n",
       "      <td>-73.94190</td>\n",
       "      <td>Private room</td>\n",
       "      <td>150</td>\n",
       "      <td>3</td>\n",
       "      <td>0</td>\n",
       "      <td>NaN</td>\n",
       "      <td>NaN</td>\n",
       "      <td>1</td>\n",
       "      <td>365</td>\n",
       "    </tr>\n",
       "    <tr>\n",
       "      <th>2</th>\n",
       "      <td>3831</td>\n",
       "      <td>Cozy Entire Floor of Brownstone</td>\n",
       "      <td>4869</td>\n",
       "      <td>LisaRoxanne</td>\n",
       "      <td>Brooklyn</td>\n",
       "      <td>Clinton Hill</td>\n",
       "      <td>40.68514</td>\n",
       "      <td>-73.95976</td>\n",
       "      <td>Entire home/apt</td>\n",
       "      <td>89</td>\n",
       "      <td>1</td>\n",
       "      <td>270</td>\n",
       "      <td>2019-07-05</td>\n",
       "      <td>4.64</td>\n",
       "      <td>1</td>\n",
       "      <td>194</td>\n",
       "    </tr>\n",
       "    <tr>\n",
       "      <th>3</th>\n",
       "      <td>5022</td>\n",
       "      <td>Entire Apt: Spacious Studio/Loft by central park</td>\n",
       "      <td>7192</td>\n",
       "      <td>Laura</td>\n",
       "      <td>Manhattan</td>\n",
       "      <td>East Harlem</td>\n",
       "      <td>40.79851</td>\n",
       "      <td>-73.94399</td>\n",
       "      <td>Entire home/apt</td>\n",
       "      <td>80</td>\n",
       "      <td>10</td>\n",
       "      <td>9</td>\n",
       "      <td>2018-11-19</td>\n",
       "      <td>0.10</td>\n",
       "      <td>1</td>\n",
       "      <td>0</td>\n",
       "    </tr>\n",
       "    <tr>\n",
       "      <th>4</th>\n",
       "      <td>5099</td>\n",
       "      <td>Large Cozy 1 BR Apartment In Midtown East</td>\n",
       "      <td>7322</td>\n",
       "      <td>Chris</td>\n",
       "      <td>Manhattan</td>\n",
       "      <td>Murray Hill</td>\n",
       "      <td>40.74767</td>\n",
       "      <td>-73.97500</td>\n",
       "      <td>Entire home/apt</td>\n",
       "      <td>200</td>\n",
       "      <td>3</td>\n",
       "      <td>74</td>\n",
       "      <td>2019-06-22</td>\n",
       "      <td>0.59</td>\n",
       "      <td>1</td>\n",
       "      <td>129</td>\n",
       "    </tr>\n",
       "  </tbody>\n",
       "</table>\n",
       "</div>"
      ],
      "text/plain": [
       "     id                                              nome  host_id  \\\n",
       "0  2595                             Skylit Midtown Castle     2845   \n",
       "1  3647               THE VILLAGE OF HARLEM....NEW YORK !     4632   \n",
       "2  3831                   Cozy Entire Floor of Brownstone     4869   \n",
       "3  5022  Entire Apt: Spacious Studio/Loft by central park     7192   \n",
       "4  5099         Large Cozy 1 BR Apartment In Midtown East     7322   \n",
       "\n",
       "     host_name bairro_group        bairro  latitude  longitude  \\\n",
       "0     Jennifer    Manhattan       Midtown  40.75362  -73.98377   \n",
       "1    Elisabeth    Manhattan        Harlem  40.80902  -73.94190   \n",
       "2  LisaRoxanne     Brooklyn  Clinton Hill  40.68514  -73.95976   \n",
       "3        Laura    Manhattan   East Harlem  40.79851  -73.94399   \n",
       "4        Chris    Manhattan   Murray Hill  40.74767  -73.97500   \n",
       "\n",
       "         room_type  price  minimo_noites  numero_de_reviews ultima_review  \\\n",
       "0  Entire home/apt    225              1                 45    2019-05-21   \n",
       "1     Private room    150              3                  0           NaN   \n",
       "2  Entire home/apt     89              1                270    2019-07-05   \n",
       "3  Entire home/apt     80             10                  9    2018-11-19   \n",
       "4  Entire home/apt    200              3                 74    2019-06-22   \n",
       "\n",
       "   reviews_por_mes  calculado_host_listings_count  disponibilidade_365  \n",
       "0             0.38                              2                  355  \n",
       "1              NaN                              1                  365  \n",
       "2             4.64                              1                  194  \n",
       "3             0.10                              1                    0  \n",
       "4             0.59                              1                  129  "
      ]
     },
     "execution_count": 23,
     "metadata": {},
     "output_type": "execute_result"
    }
   ],
   "source": [
    "df_prices = pd.read_csv('../data/raw/teste_indicium_precificacao.csv')\n",
    "df_prices.head()"
   ]
  },
  {
   "cell_type": "markdown",
   "metadata": {},
   "source": [
    "## 2. Descrição dos dados"
   ]
  },
  {
   "cell_type": "code",
   "execution_count": 24,
   "metadata": {},
   "outputs": [
    {
     "data": {
      "text/plain": [
       "Index(['id', 'nome', 'host_id', 'host_name', 'bairro_group', 'bairro',\n",
       "       'latitude', 'longitude', 'room_type', 'price', 'minimo_noites',\n",
       "       'numero_de_reviews', 'ultima_review', 'reviews_por_mes',\n",
       "       'calculado_host_listings_count', 'disponibilidade_365'],\n",
       "      dtype='object')"
      ]
     },
     "execution_count": 24,
     "metadata": {},
     "output_type": "execute_result"
    }
   ],
   "source": [
    "## Visualizando as colunas do dataset\n",
    "df_prices.columns"
   ]
  },
  {
   "cell_type": "markdown",
   "metadata": {},
   "source": [
    "## 2.1. Dimensão dos dados"
   ]
  },
  {
   "cell_type": "code",
   "execution_count": 12,
   "metadata": {},
   "outputs": [
    {
     "name": "stdout",
     "output_type": "stream",
     "text": [
      "Número de linhas:48894\n",
      "Número de colunas:16\n"
     ]
    }
   ],
   "source": [
    "## Verificando o nº de linhas e colunas\n",
    "print('Número de linhas:{}'.format(df_prices.shape[0]))\n",
    "print('Número de colunas:{}'.format(df_prices.shape[1]))"
   ]
  },
  {
   "cell_type": "markdown",
   "metadata": {},
   "source": [
    "## 2.2. Tipo de dados"
   ]
  },
  {
   "cell_type": "code",
   "execution_count": 13,
   "metadata": {},
   "outputs": [
    {
     "data": {
      "text/plain": [
       "id                                 int64\n",
       "nome                              object\n",
       "host_id                            int64\n",
       "host_name                         object\n",
       "bairro_group                      object\n",
       "bairro                            object\n",
       "latitude                         float64\n",
       "longitude                        float64\n",
       "room_type                         object\n",
       "price                              int64\n",
       "minimo_noites                      int64\n",
       "numero_de_reviews                  int64\n",
       "ultima_review                     object\n",
       "reviews_por_mes                  float64\n",
       "calculado_host_listings_count      int64\n",
       "disponibilidade_365                int64\n",
       "dtype: object"
      ]
     },
     "execution_count": 13,
     "metadata": {},
     "output_type": "execute_result"
    }
   ],
   "source": [
    "\n",
    "## Verificando os tipos de dados, e, se necessário, mudar os tipos não adequados\n",
    "df_prices.dtypes"
   ]
  },
  {
   "cell_type": "markdown",
   "metadata": {},
   "source": [
    "## 2.3. Checando valores nulos"
   ]
  },
  {
   "cell_type": "code",
   "execution_count": 14,
   "metadata": {},
   "outputs": [
    {
     "data": {
      "text/plain": [
       "id                                   0\n",
       "nome                                16\n",
       "host_id                              0\n",
       "host_name                           21\n",
       "bairro_group                         0\n",
       "bairro                               0\n",
       "latitude                             0\n",
       "longitude                            0\n",
       "room_type                            0\n",
       "price                                0\n",
       "minimo_noites                        0\n",
       "numero_de_reviews                    0\n",
       "ultima_review                    10052\n",
       "reviews_por_mes                  10052\n",
       "calculado_host_listings_count        0\n",
       "disponibilidade_365                  0\n",
       "dtype: int64"
      ]
     },
     "execution_count": 14,
     "metadata": {},
     "output_type": "execute_result"
    }
   ],
   "source": [
    "## Verificando e Tratando os valores nulos\n",
    "df_prices.isna().sum()"
   ]
  },
  {
   "cell_type": "code",
   "execution_count": null,
   "metadata": {},
   "outputs": [
    {
     "name": "stdout",
     "output_type": "stream",
     "text": [
      "id                               0\n",
      "nome                             0\n",
      "host_id                          0\n",
      "host_name                        0\n",
      "bairro_group                     0\n",
      "bairro                           0\n",
      "latitude                         0\n",
      "longitude                        0\n",
      "room_type                        0\n",
      "price                            0\n",
      "minimo_noites                    0\n",
      "numero_de_reviews                0\n",
      "ultima_review                    0\n",
      "reviews_por_mes                  0\n",
      "calculado_host_listings_count    0\n",
      "disponibilidade_365              0\n",
      "dtype: int64\n"
     ]
    }
   ],
   "source": [
    "## O tratamento adequado para os dados NA \n",
    "## Para colunas nome e host_name, os valores nulos serão preenchidos por 'Desconhecido'; para valores de ultima_review serão \n",
    "# substituídos por uma data padrão e as reviews em branco serão substituídas por 0 \n",
    "\n",
    "df_prices = df_prices.assign(\n",
    "    nome=df_prices['nome'].fillna('Desconhecido'),\n",
    "    host_name=df_prices['host_name'].fillna('Desconhecido'),\n",
    "    ultima_review=df_prices['ultima_review'].fillna(pd.Timestamp('2000-01-01')),\n",
    "    reviews_por_mes=df_prices['reviews_por_mes'].fillna(0)\n",
    ")\n",
    "\n",
    "## Verificando se ainda há valores nulos \n",
    "print(df_prices.isna().sum())\n",
    "\n"
   ]
  },
  {
   "cell_type": "markdown",
   "metadata": {},
   "source": [
    "## Estatística Descritiva"
   ]
  },
  {
   "cell_type": "code",
   "execution_count": 20,
   "metadata": {},
   "outputs": [],
   "source": [
    "num_attributes = df_prices.select_dtypes(include=['int64', 'float64'])\n",
    "cat_attributes = df_prices.select_dtypes(exclude=['int64', 'float64', 'datetime64[ns]'])"
   ]
  },
  {
   "cell_type": "markdown",
   "metadata": {},
   "source": [
    "## Atributos Numéricos"
   ]
  },
  {
   "cell_type": "code",
   "execution_count": 45,
   "metadata": {},
   "outputs": [
    {
     "name": "stderr",
     "output_type": "stream",
     "text": [
      "/tmp/ipykernel_4587/87578903.py:19: FutureWarning: DataFrame.applymap has been deprecated. Use DataFrame.map instead.\n",
      "  summary_stats = summary_stats.applymap(lambda x: f'{x:,.2f}' if isinstance(x, (int, float)) else x)\n"
     ]
    },
    {
     "data": {
      "text/html": [
       "<div>\n",
       "<style scoped>\n",
       "    .dataframe tbody tr th:only-of-type {\n",
       "        vertical-align: middle;\n",
       "    }\n",
       "\n",
       "    .dataframe tbody tr th {\n",
       "        vertical-align: top;\n",
       "    }\n",
       "\n",
       "    .dataframe thead th {\n",
       "        text-align: right;\n",
       "    }\n",
       "</style>\n",
       "<table border=\"1\" class=\"dataframe\">\n",
       "  <thead>\n",
       "    <tr style=\"text-align: right;\">\n",
       "      <th></th>\n",
       "      <th>Atributos</th>\n",
       "      <th>Valor Mínimo</th>\n",
       "      <th>Valor Máximo</th>\n",
       "      <th>Amplitude</th>\n",
       "      <th>Media</th>\n",
       "      <th>Mediana</th>\n",
       "      <th>Desvio Padrão</th>\n",
       "      <th>Assimetria</th>\n",
       "      <th>Curtose</th>\n",
       "    </tr>\n",
       "  </thead>\n",
       "  <tbody>\n",
       "    <tr>\n",
       "      <th>0</th>\n",
       "      <td>id</td>\n",
       "      <td>2,595.00</td>\n",
       "      <td>36,487,245.00</td>\n",
       "      <td>36,484,650.00</td>\n",
       "      <td>19,017,532.13</td>\n",
       "      <td>19,677,431.50</td>\n",
       "      <td>10,982,771.74</td>\n",
       "      <td>-0.09</td>\n",
       "      <td>-1.23</td>\n",
       "    </tr>\n",
       "    <tr>\n",
       "      <th>1</th>\n",
       "      <td>host_id</td>\n",
       "      <td>2,438.00</td>\n",
       "      <td>274,321,313.00</td>\n",
       "      <td>274,318,875.00</td>\n",
       "      <td>67,621,393.58</td>\n",
       "      <td>30,795,529.00</td>\n",
       "      <td>78,610,372.25</td>\n",
       "      <td>1.21</td>\n",
       "      <td>0.17</td>\n",
       "    </tr>\n",
       "    <tr>\n",
       "      <th>2</th>\n",
       "      <td>latitude</td>\n",
       "      <td>40.50</td>\n",
       "      <td>40.91</td>\n",
       "      <td>0.41</td>\n",
       "      <td>40.73</td>\n",
       "      <td>40.72</td>\n",
       "      <td>0.05</td>\n",
       "      <td>0.24</td>\n",
       "      <td>0.15</td>\n",
       "    </tr>\n",
       "    <tr>\n",
       "      <th>3</th>\n",
       "      <td>longitude</td>\n",
       "      <td>-74.24</td>\n",
       "      <td>-73.71</td>\n",
       "      <td>0.53</td>\n",
       "      <td>-73.95</td>\n",
       "      <td>-73.96</td>\n",
       "      <td>0.05</td>\n",
       "      <td>1.28</td>\n",
       "      <td>5.02</td>\n",
       "    </tr>\n",
       "    <tr>\n",
       "      <th>4</th>\n",
       "      <td>price</td>\n",
       "      <td>0.00</td>\n",
       "      <td>10,000.00</td>\n",
       "      <td>10,000.00</td>\n",
       "      <td>152.72</td>\n",
       "      <td>106.00</td>\n",
       "      <td>240.15</td>\n",
       "      <td>19.12</td>\n",
       "      <td>585.66</td>\n",
       "    </tr>\n",
       "    <tr>\n",
       "      <th>5</th>\n",
       "      <td>minimo_noites</td>\n",
       "      <td>1.00</td>\n",
       "      <td>1,250.00</td>\n",
       "      <td>1,249.00</td>\n",
       "      <td>7.03</td>\n",
       "      <td>3.00</td>\n",
       "      <td>20.51</td>\n",
       "      <td>21.83</td>\n",
       "      <td>854.06</td>\n",
       "    </tr>\n",
       "    <tr>\n",
       "      <th>6</th>\n",
       "      <td>numero_de_reviews</td>\n",
       "      <td>0.00</td>\n",
       "      <td>629.00</td>\n",
       "      <td>629.00</td>\n",
       "      <td>23.27</td>\n",
       "      <td>5.00</td>\n",
       "      <td>44.55</td>\n",
       "      <td>3.69</td>\n",
       "      <td>19.53</td>\n",
       "    </tr>\n",
       "    <tr>\n",
       "      <th>7</th>\n",
       "      <td>reviews_por_mes</td>\n",
       "      <td>0.01</td>\n",
       "      <td>58.50</td>\n",
       "      <td>58.49</td>\n",
       "      <td>1.37</td>\n",
       "      <td>nan</td>\n",
       "      <td>1.68</td>\n",
       "      <td>3.13</td>\n",
       "      <td>42.49</td>\n",
       "    </tr>\n",
       "    <tr>\n",
       "      <th>8</th>\n",
       "      <td>calculado_host_listings_count</td>\n",
       "      <td>1.00</td>\n",
       "      <td>327.00</td>\n",
       "      <td>326.00</td>\n",
       "      <td>7.14</td>\n",
       "      <td>1.00</td>\n",
       "      <td>32.95</td>\n",
       "      <td>7.93</td>\n",
       "      <td>67.55</td>\n",
       "    </tr>\n",
       "    <tr>\n",
       "      <th>9</th>\n",
       "      <td>disponibilidade_365</td>\n",
       "      <td>0.00</td>\n",
       "      <td>365.00</td>\n",
       "      <td>365.00</td>\n",
       "      <td>112.78</td>\n",
       "      <td>45.00</td>\n",
       "      <td>131.62</td>\n",
       "      <td>0.76</td>\n",
       "      <td>-1.00</td>\n",
       "    </tr>\n",
       "  </tbody>\n",
       "</table>\n",
       "</div>"
      ],
      "text/plain": [
       "                       Atributos Valor Mínimo    Valor Máximo       Amplitude  \\\n",
       "0                             id     2,595.00   36,487,245.00   36,484,650.00   \n",
       "1                        host_id     2,438.00  274,321,313.00  274,318,875.00   \n",
       "2                       latitude        40.50           40.91            0.41   \n",
       "3                      longitude       -74.24          -73.71            0.53   \n",
       "4                          price         0.00       10,000.00       10,000.00   \n",
       "5                  minimo_noites         1.00        1,250.00        1,249.00   \n",
       "6              numero_de_reviews         0.00          629.00          629.00   \n",
       "7                reviews_por_mes         0.01           58.50           58.49   \n",
       "8  calculado_host_listings_count         1.00          327.00          326.00   \n",
       "9            disponibilidade_365         0.00          365.00          365.00   \n",
       "\n",
       "           Media        Mediana  Desvio Padrão Assimetria Curtose  \n",
       "0  19,017,532.13  19,677,431.50  10,982,771.74      -0.09   -1.23  \n",
       "1  67,621,393.58  30,795,529.00  78,610,372.25       1.21    0.17  \n",
       "2          40.73          40.72           0.05       0.24    0.15  \n",
       "3         -73.95         -73.96           0.05       1.28    5.02  \n",
       "4         152.72         106.00         240.15      19.12  585.66  \n",
       "5           7.03           3.00          20.51      21.83  854.06  \n",
       "6          23.27           5.00          44.55       3.69   19.53  \n",
       "7           1.37            nan           1.68       3.13   42.49  \n",
       "8           7.14           1.00          32.95       7.93   67.55  \n",
       "9         112.78          45.00         131.62       0.76   -1.00  "
      ]
     },
     "execution_count": 45,
     "metadata": {},
     "output_type": "execute_result"
    }
   ],
   "source": [
    "## Tendências centrais\n",
    "\n",
    "media = pd.DataFrame(num_attributes.apply(np.mean)).T\n",
    "\n",
    "mediana = pd.DataFrame(num_attributes.apply(np.median)).T\n",
    "\n",
    "## Dispersão\n",
    "\n",
    "dispersion1 = pd.DataFrame(num_attributes.apply(np.std)).T  # Desvio padrão\n",
    "dispersion2 = pd.DataFrame(num_attributes.apply(min)).T  # Valor mínimo\n",
    "dispersion3 = pd.DataFrame(num_attributes.apply(max)).T  # Valor máximo\n",
    "dispersion4 = pd.DataFrame(num_attributes.apply(lambda x: x.max() - x.min())).T  \n",
    "dispersion5 = pd.DataFrame(num_attributes.apply(lambda x: x.skew())).T\n",
    "dispersion6 = pd.DataFrame(num_attributes.apply(lambda x: x.kurtosis())).T\n",
    "\n",
    "\n",
    "summary_stats = pd.concat([dispersion2, dispersion3, dispersion4, media, mediana, dispersion1, dispersion5, dispersion6]).T.reset_index()\n",
    "summary_stats.columns = ['Atributos','Valor Mínimo','Valor Máximo', 'Amplitude', 'Media','Mediana','Desvio Padrão','Assimetria','Curtose']\n",
    "summary_stats = summary_stats.applymap(lambda x: f'{x:,.2f}' if isinstance(x, (int, float)) else x)\n",
    "\n",
    "\n",
    "summary_stats"
   ]
  },
  {
   "cell_type": "code",
   "execution_count": 56,
   "metadata": {},
   "outputs": [
    {
     "data": {
      "image/png": "[encoded data removed]",
      "text/plain": [
       "<Figure size 500x500 with 1 Axes>"
      ]
     },
     "metadata": {},
     "output_type": "display_data"
    }
   ],
   "source": [
    "sns.displot(df_prices['price'], bins=30, kde=True)\n",
    "plt.title('Distribuição dos Preços')\n",
    "plt.xlabel('Preço')\n",
    "plt.ylabel('Frequência')\n",
    "\n",
    "\n",
    "plt.show()"
   ]
  }
 ],
 "metadata": {
  "kernelspec": {
   "display_name": ".venv",
   "language": "python",
   "name": "python3"
  },
  "language_info": {
   "codemirror_mode": {
    "name": "ipython",
    "version": 3
   },
   "file_extension": ".py",
   "mimetype": "text/x-python",
   "name": "python",
   "nbconvert_exporter": "python",
   "pygments_lexer": "ipython3",
   "version": "3.10.11"
  }
 },
 "nbformat": 4,
 "nbformat_minor": 2
}
