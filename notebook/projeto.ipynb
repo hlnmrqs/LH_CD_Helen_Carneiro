{
 "cells": [
  {
   "cell_type": "markdown",
   "metadata": {},
   "source": [
    "## 0. Importação das bibliotecas"
   ]
  },
  {
   "cell_type": "code",
   "execution_count": 7,
   "metadata": {},
   "outputs": [],
   "source": [
    "import pandas as pd\n",
    "import os "
   ]
  },
  {
   "cell_type": "markdown",
   "metadata": {},
   "source": [
    "## 1. Carregando os dados"
   ]
  },
  {
   "cell_type": "code",
   "execution_count": 10,
   "metadata": {},
   "outputs": [],
   "source": [
    "df_prices = pd.read_csv('../data/raw/teste_indicium_precificacao.csv')\n"
   ]
  },
  {
   "cell_type": "markdown",
   "metadata": {},
   "source": [
    "## 1. Descrição dos dados"
   ]
  },
  {
   "cell_type": "code",
   "execution_count": 11,
   "metadata": {},
   "outputs": [
    {
     "data": {
      "text/plain": [
       "Index(['id', 'nome', 'host_id', 'host_name', 'bairro_group', 'bairro',\n",
       "       'latitude', 'longitude', 'room_type', 'price', 'minimo_noites',\n",
       "       'numero_de_reviews', 'ultima_review', 'reviews_por_mes',\n",
       "       'calculado_host_listings_count', 'disponibilidade_365'],\n",
       "      dtype='object')"
      ]
     },
     "execution_count": 11,
     "metadata": {},
     "output_type": "execute_result"
    }
   ],
   "source": [
    "## Visualizando as colunas do dataset\n",
    "df_prices.columns"
   ]
  },
  {
   "cell_type": "markdown",
   "metadata": {},
   "source": [
    "## 1.1. Dimensão dos dados"
   ]
  },
  {
   "cell_type": "code",
   "execution_count": 12,
   "metadata": {},
   "outputs": [
    {
     "name": "stdout",
     "output_type": "stream",
     "text": [
      "Número de linhas:48894\n",
      "Número de colunas:16\n"
     ]
    }
   ],
   "source": [
    "## Verificando o nº de linhas e colunas\n",
    "print('Número de linhas:{}'.format(df_prices.shape[0]))\n",
    "print('Número de colunas:{}'.format(df_prices.shape[1]))"
   ]
  },
  {
   "cell_type": "markdown",
   "metadata": {},
   "source": [
    "## 1.2. Tipo de dados"
   ]
  },
  {
   "cell_type": "code",
   "execution_count": 13,
   "metadata": {},
   "outputs": [
    {
     "data": {
      "text/plain": [
       "id                                 int64\n",
       "nome                              object\n",
       "host_id                            int64\n",
       "host_name                         object\n",
       "bairro_group                      object\n",
       "bairro                            object\n",
       "latitude                         float64\n",
       "longitude                        float64\n",
       "room_type                         object\n",
       "price                              int64\n",
       "minimo_noites                      int64\n",
       "numero_de_reviews                  int64\n",
       "ultima_review                     object\n",
       "reviews_por_mes                  float64\n",
       "calculado_host_listings_count      int64\n",
       "disponibilidade_365                int64\n",
       "dtype: object"
      ]
     },
     "execution_count": 13,
     "metadata": {},
     "output_type": "execute_result"
    }
   ],
   "source": [
    "\n",
    "## Verificando os tipos de dados, e, se necessário, mudar os tipos não adequados\n",
    "df_prices.dtypes"
   ]
  },
  {
   "cell_type": "markdown",
   "metadata": {},
   "source": [
    "## 1.3. Checando valores nulos"
   ]
  },
  {
   "cell_type": "code",
   "execution_count": 14,
   "metadata": {},
   "outputs": [
    {
     "data": {
      "text/plain": [
       "id                                   0\n",
       "nome                                16\n",
       "host_id                              0\n",
       "host_name                           21\n",
       "bairro_group                         0\n",
       "bairro                               0\n",
       "latitude                             0\n",
       "longitude                            0\n",
       "room_type                            0\n",
       "price                                0\n",
       "minimo_noites                        0\n",
       "numero_de_reviews                    0\n",
       "ultima_review                    10052\n",
       "reviews_por_mes                  10052\n",
       "calculado_host_listings_count        0\n",
       "disponibilidade_365                  0\n",
       "dtype: int64"
      ]
     },
     "execution_count": 14,
     "metadata": {},
     "output_type": "execute_result"
    }
   ],
   "source": [
    "## Verificando e Tratando os valores nulos\n",
    "df_prices.isna().sum()"
   ]
  },
  {
   "cell_type": "code",
   "execution_count": null,
   "metadata": {},
   "outputs": [
    {
     "name": "stdout",
     "output_type": "stream",
     "text": [
      "id                               0\n",
      "nome                             0\n",
      "host_id                          0\n",
      "host_name                        0\n",
      "bairro_group                     0\n",
      "bairro                           0\n",
      "latitude                         0\n",
      "longitude                        0\n",
      "room_type                        0\n",
      "price                            0\n",
      "minimo_noites                    0\n",
      "numero_de_reviews                0\n",
      "ultima_review                    0\n",
      "reviews_por_mes                  0\n",
      "calculado_host_listings_count    0\n",
      "disponibilidade_365              0\n",
      "dtype: int64\n"
     ]
    }
   ],
   "source": [
    "## O tratamento adequado para os dados NA \n",
    "## Para colunas nome e host_name, os valores nulos serão preenchidos por 'Desconhecido'; para valores de ultima_review serão \n",
    "# substituídos por uma data padrão e as reviews em branco serão substituídas por 0 \n",
    "\n",
    "df_prices = df_prices.assign(\n",
    "    nome=df_prices['nome'].fillna('Desconhecido'),\n",
    "    host_name=df_prices['host_name'].fillna('Desconhecido'),\n",
    "    ultima_review=df_prices['ultima_review'].fillna(pd.Timestamp('2000-01-01')),\n",
    "    reviews_por_mes=df_prices['reviews_por_mes'].fillna(0)\n",
    ")\n",
    "\n",
    "## Verificando se ainda há valores nulos \n",
    "print(df_prices.isna().sum())\n",
    "\n"
   ]
  },
  {
   "cell_type": "code",
   "execution_count": null,
   "metadata": {},
   "outputs": [],
   "source": []
  }
 ],
 "metadata": {
  "kernelspec": {
   "display_name": ".venv",
   "language": "python",
   "name": "python3"
  },
  "language_info": {
   "codemirror_mode": {
    "name": "ipython",
    "version": 3
   },
   "file_extension": ".py",
   "mimetype": "text/x-python",
   "name": "python",
   "nbconvert_exporter": "python",
   "pygments_lexer": "ipython3",
   "version": "3.10.11"
  }
 },
 "nbformat": 4,
 "nbformat_minor": 2
}
